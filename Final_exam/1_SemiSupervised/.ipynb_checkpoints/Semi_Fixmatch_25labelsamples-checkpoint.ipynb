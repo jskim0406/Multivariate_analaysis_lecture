{
 "cells": [
  {
   "cell_type": "code",
   "execution_count": 1,
   "metadata": {
    "ExecuteTime": {
     "end_time": "2022-06-12T01:22:14.474182Z",
     "start_time": "2022-06-12T01:22:13.107351Z"
    }
   },
   "outputs": [],
   "source": [
    "from __future__ import print_function, division\n",
    "import os\n",
    "import argparse\n",
    "import seaborn as sns\n",
    "\n",
    "import torch\n",
    "\n",
    "from utils import net_builder\n",
    "from datasets.ssl_dataset import SSL_Dataset\n",
    "from datasets.data_utils import get_data_loader"
   ]
  },
  {
   "cell_type": "markdown",
   "metadata": {},
   "source": [
    "# Argument parsing"
   ]
  },
  {
   "cell_type": "code",
   "execution_count": 2,
   "metadata": {
    "ExecuteTime": {
     "end_time": "2022-06-12T01:22:14.481020Z",
     "start_time": "2022-06-12T01:22:14.475550Z"
    }
   },
   "outputs": [],
   "source": [
    "parser = argparse.ArgumentParser()\n",
    "parser.add_argument('--load_path', type=str, default='./saved_models/fixmatch/model_best_25labelsamples.pth')\n",
    "parser.add_argument('--use_train_model', action='store_true')\n",
    "\n",
    "'''\n",
    "Backbone Net Configurations\n",
    "'''\n",
    "parser.add_argument('--net', type=str, default='WideResNet')\n",
    "parser.add_argument('--net_from_name', type=bool, default=False)\n",
    "parser.add_argument('--depth', type=int, default=28)\n",
    "parser.add_argument('--widen_factor', type=int, default=2)\n",
    "parser.add_argument('--leaky_slope', type=float, default=0.1)\n",
    "parser.add_argument('--dropout', type=float, default=0.0)\n",
    "\n",
    "'''\n",
    "Data Configurations\n",
    "'''\n",
    "parser.add_argument('--batch_size', type=int, default=256)\n",
    "parser.add_argument('--data_dir', type=str, default='../data')\n",
    "parser.add_argument('--dataset', type=str, default='cifar10')\n",
    "parser.add_argument('--num_classes', type=int, default=10)\n",
    "\n",
    "args = parser.parse_args([])"
   ]
  },
  {
   "cell_type": "markdown",
   "metadata": {},
   "source": [
    "## Load trained model"
   ]
  },
  {
   "cell_type": "code",
   "execution_count": 3,
   "metadata": {
    "ExecuteTime": {
     "end_time": "2022-06-12T01:22:14.554328Z",
     "start_time": "2022-06-12T01:22:14.482262Z"
    }
   },
   "outputs": [],
   "source": [
    "checkpoint_path = os.path.join(args.load_path)\n",
    "checkpoint = torch.load(checkpoint_path, map_location=torch.device('cpu'))\n",
    "load_model = checkpoint['ema_model']"
   ]
  },
  {
   "cell_type": "code",
   "execution_count": 4,
   "metadata": {
    "ExecuteTime": {
     "end_time": "2022-06-12T01:22:16.907587Z",
     "start_time": "2022-06-12T01:22:14.555770Z"
    }
   },
   "outputs": [
    {
     "name": "stdout",
     "output_type": "stream",
     "text": [
      "depth in <models.nets.wrn.build_WideResNet object at 0x7eff42214910> is overlapped by kwargs: 28 -> 28\n",
      "widen_factor in <models.nets.wrn.build_WideResNet object at 0x7eff42214910> is overlapped by kwargs: 2 -> 2\n",
      "leaky_slope in <models.nets.wrn.build_WideResNet object at 0x7eff42214910> is overlapped by kwargs: 0.0 -> 0.1\n",
      "dropRate in <models.nets.wrn.build_WideResNet object at 0x7eff42214910> is overlapped by kwargs: 0.0 -> 0.0\n",
      "use_embed in <models.nets.wrn.build_WideResNet object at 0x7eff42214910> is overlapped by kwargs: False -> False\n"
     ]
    },
    {
     "data": {
      "text/plain": [
       "<All keys matched successfully>"
      ]
     },
     "execution_count": 4,
     "metadata": {},
     "output_type": "execute_result"
    }
   ],
   "source": [
    "_net_builder = net_builder(args.net,\n",
    "                           args.net_from_name,\n",
    "                           {'depth': args.depth, \n",
    "                            'widen_factor': args.widen_factor,\n",
    "                            'leaky_slope': args.leaky_slope,\n",
    "                            'dropRate': args.dropout,\n",
    "                            'use_embed': False})\n",
    "    \n",
    "net = torch.nn.DataParallel(_net_builder(num_classes=args.num_classes))\n",
    "net.load_state_dict(load_model, strict=False)"
   ]
  },
  {
   "cell_type": "markdown",
   "metadata": {},
   "source": [
    "# Test data load"
   ]
  },
  {
   "cell_type": "code",
   "execution_count": 5,
   "metadata": {
    "ExecuteTime": {
     "end_time": "2022-06-12T01:22:17.501853Z",
     "start_time": "2022-06-12T01:22:16.908599Z"
    }
   },
   "outputs": [
    {
     "name": "stdout",
     "output_type": "stream",
     "text": [
      "Files already downloaded and verified\n"
     ]
    }
   ],
   "source": [
    "if torch.cuda.is_available():\n",
    "    net.cuda()\n",
    "net.eval()\n",
    "\n",
    "_eval_dset = SSL_Dataset(args, name=args.dataset, alg='fixmatch', train=False, data_dir=args.data_dir)\n",
    "eval_dset = _eval_dset.get_dset()\n",
    "\n",
    "eval_loader = get_data_loader(eval_dset,\n",
    "                              args.batch_size, \n",
    "                              num_workers=1)"
   ]
  },
  {
   "cell_type": "markdown",
   "metadata": {},
   "source": [
    "# Evaluation"
   ]
  },
  {
   "cell_type": "code",
   "execution_count": 6,
   "metadata": {
    "ExecuteTime": {
     "end_time": "2022-06-12T01:22:19.227547Z",
     "start_time": "2022-06-12T01:22:17.502971Z"
    }
   },
   "outputs": [
    {
     "name": "stdout",
     "output_type": "stream",
     "text": [
      "Test Accuracy: 0.9516\n"
     ]
    }
   ],
   "source": [
    "acc = 0.0\n",
    "with torch.no_grad():\n",
    "    for idx, image, target in eval_loader:\n",
    "        image = image.type(torch.FloatTensor).cuda()\n",
    "        logit = net(image)\n",
    "\n",
    "        acc += logit.cpu().max(1)[1].eq(target).sum().numpy()\n",
    "\n",
    "print(f\"Test Accuracy: {acc/len(eval_dset)}\")"
   ]
  }
 ],
 "metadata": {
  "hide_input": false,
  "kernelspec": {
   "display_name": "Python 3",
   "language": "python",
   "name": "python3"
  },
  "language_info": {
   "codemirror_mode": {
    "name": "ipython",
    "version": 3
   },
   "file_extension": ".py",
   "mimetype": "text/x-python",
   "name": "python",
   "nbconvert_exporter": "python",
   "pygments_lexer": "ipython3",
   "version": "3.8.5"
  },
  "toc": {
   "base_numbering": 1,
   "nav_menu": {},
   "number_sections": true,
   "sideBar": true,
   "skip_h1_title": false,
   "title_cell": "Table of Contents",
   "title_sidebar": "Contents",
   "toc_cell": false,
   "toc_position": {},
   "toc_section_display": true,
   "toc_window_display": false
  },
  "varInspector": {
   "cols": {
    "lenName": 16,
    "lenType": 16,
    "lenVar": 40
   },
   "kernels_config": {
    "python": {
     "delete_cmd_postfix": "",
     "delete_cmd_prefix": "del ",
     "library": "var_list.py",
     "varRefreshCmd": "print(var_dic_list())"
    },
    "r": {
     "delete_cmd_postfix": ") ",
     "delete_cmd_prefix": "rm(",
     "library": "var_list.r",
     "varRefreshCmd": "cat(var_dic_list()) "
    }
   },
   "types_to_exclude": [
    "module",
    "function",
    "builtin_function_or_method",
    "instance",
    "_Feature"
   ],
   "window_display": false
  }
 },
 "nbformat": 4,
 "nbformat_minor": 4
}
