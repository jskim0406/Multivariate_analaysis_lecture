{
 "cells": [
  {
   "cell_type": "code",
   "execution_count": 1,
   "metadata": {
    "ExecuteTime": {
     "end_time": "2022-06-11T08:02:28.791505Z",
     "start_time": "2022-06-11T08:02:27.936993Z"
    },
    "id": "90b75e60"
   },
   "outputs": [],
   "source": [
    "import torchvision\n",
    "import torch\n",
    "import torch.nn as nn\n",
    "import torch.optim as optim\n",
    "import torchvision.transforms as transforms\n",
    "from torchvision.models import resnet18 as ResNet18\n",
    "import os\n",
    "import torchvision.models as models\n",
    "from tqdm.auto import tqdm\n",
    "\n",
    "import wandb\n",
    "from configs.config import Config"
   ]
  },
  {
   "cell_type": "code",
   "execution_count": 2,
   "metadata": {
    "ExecuteTime": {
     "end_time": "2022-06-11T08:02:35.557188Z",
     "start_time": "2022-06-11T08:02:28.793217Z"
    }
   },
   "outputs": [
    {
     "name": "stderr",
     "output_type": "stream",
     "text": [
      "Failed to detect the name of this notebook, you can set it manually with the WANDB_NOTEBOOK_NAME environment variable to enable code saving.\n",
      "\u001b[34m\u001b[1mwandb\u001b[0m: Currently logged in as: \u001b[33mjskim0406\u001b[0m. Use \u001b[1m`wandb login --relogin`\u001b[0m to force relogin\n"
     ]
    },
    {
     "data": {
      "text/html": [
       "wandb version 0.12.18 is available!  To upgrade, please run:\n",
       " $ pip install wandb --upgrade"
      ],
      "text/plain": [
       "<IPython.core.display.HTML object>"
      ]
     },
     "metadata": {},
     "output_type": "display_data"
    },
    {
     "data": {
      "text/html": [
       "Tracking run with wandb version 0.12.16"
      ],
      "text/plain": [
       "<IPython.core.display.HTML object>"
      ]
     },
     "metadata": {},
     "output_type": "display_data"
    },
    {
     "data": {
      "text/html": [
       "Run data is saved locally in <code>/home/jeongseobkim/desktop/0.study/22-1_다변량_김성범교수님/Final_exam/3_FullySupervised/wandb/run-20220611_170229-109ujddp</code>"
      ],
      "text/plain": [
       "<IPython.core.display.HTML object>"
      ]
     },
     "metadata": {},
     "output_type": "display_data"
    },
    {
     "data": {
      "text/html": [
       "Syncing run <strong><a href=\"https://wandb.ai/jskim0406/Resnet18_cifar10/runs/109ujddp\" target=\"_blank\">resnet18_cifar10</a></strong> to <a href=\"https://wandb.ai/jskim0406/Resnet18_cifar10\" target=\"_blank\">Weights & Biases</a> (<a href=\"https://wandb.me/run\" target=\"_blank\">docs</a>)<br/>"
      ],
      "text/plain": [
       "<IPython.core.display.HTML object>"
      ]
     },
     "metadata": {},
     "output_type": "display_data"
    },
    {
     "data": {
      "text/html": [
       "<button onClick=\"this.nextSibling.style.display='block';this.style.display='none';\">Display W&B run</button><iframe src=\"https://wandb.ai/jskim0406/Resnet18_cifar10/runs/109ujddp?jupyter=true\" style=\"border:none;width:100%;height:420px;display:none;\"></iframe>"
      ],
      "text/plain": [
       "<wandb.sdk.wandb_run.Run at 0x7fe2140afbe0>"
      ]
     },
     "execution_count": 2,
     "metadata": {},
     "output_type": "execute_result"
    }
   ],
   "source": [
    "# wandb\n",
    "wandb.init(project=\"Resnet18_cifar10\", entity=\"jskim0406\", name=f'resnet18_cifar10')\n"
   ]
  },
  {
   "cell_type": "code",
   "execution_count": 3,
   "metadata": {
    "ExecuteTime": {
     "end_time": "2022-06-11T08:02:35.561767Z",
     "start_time": "2022-06-11T08:02:35.558443Z"
    },
    "id": "b831f0d4"
   },
   "outputs": [],
   "source": [
    "# Simple Learning Rate Scheduler\n",
    "def lr_scheduler(optimizer, epoch):\n",
    "    lr = learning_rate\n",
    "    if epoch >= 50:\n",
    "        lr /= 10\n",
    "    if epoch >= 100:\n",
    "        lr /= 10\n",
    "    for param_group in optimizer.param_groups:\n",
    "        param_group['lr'] = lr\n",
    "\n",
    "# Xavier         \n",
    "def init_weights(m):\n",
    "    if isinstance(m, nn.Linear):\n",
    "        torch.nn.init.xavier_uniform(m.weight)\n",
    "        m.bias.data.fill_(0.01)"
   ]
  },
  {
   "cell_type": "code",
   "execution_count": 4,
   "metadata": {
    "ExecuteTime": {
     "end_time": "2022-06-11T08:02:36.807181Z",
     "start_time": "2022-06-11T08:02:35.562727Z"
    },
    "id": "52eadf28"
   },
   "outputs": [
    {
     "name": "stdout",
     "output_type": "stream",
     "text": [
      "Files already downloaded and verified\n",
      "Files already downloaded and verified\n"
     ]
    }
   ],
   "source": [
    "transform_train = transforms.Compose([\n",
    "    transforms.RandomCrop(32, padding=4),\n",
    "    transforms.RandomHorizontalFlip(),\n",
    "    transforms.ToTensor(),\n",
    "])\n",
    "\n",
    "transform_test = transforms.Compose([\n",
    "    transforms.ToTensor(),\n",
    "])\n",
    "\n",
    "train_dataset = torchvision.datasets.CIFAR10(root='../data', train=True, download=True, transform=transform_train)\n",
    "test_dataset = torchvision.datasets.CIFAR10(root='../data', train=False, download=True, transform=transform_test)\n",
    "\n",
    "train_loader = torch.utils.data.DataLoader(train_dataset, batch_size=256, shuffle=True, num_workers=8)\n",
    "test_loader = torch.utils.data.DataLoader(test_dataset, batch_size=256, shuffle=False, num_workers=8)"
   ]
  },
  {
   "cell_type": "code",
   "execution_count": 5,
   "metadata": {
    "ExecuteTime": {
     "end_time": "2022-06-11T08:02:36.938537Z",
     "start_time": "2022-06-11T08:02:36.808171Z"
    },
    "id": "26f6f682"
   },
   "outputs": [],
   "source": [
    "device = 'cuda'\n",
    "model = ResNet18(pretrained=False)"
   ]
  },
  {
   "cell_type": "code",
   "execution_count": 6,
   "metadata": {
    "ExecuteTime": {
     "end_time": "2022-06-11T08:02:39.275541Z",
     "start_time": "2022-06-11T08:02:36.939543Z"
    },
    "id": "1f5008c1"
   },
   "outputs": [
    {
     "name": "stderr",
     "output_type": "stream",
     "text": [
      "<ipython-input-3-3680028473a3>:14: UserWarning: nn.init.xavier_uniform is now deprecated in favor of nn.init.xavier_uniform_.\n",
      "  torch.nn.init.xavier_uniform(m.weight)\n"
     ]
    }
   ],
   "source": [
    "model.apply(init_weights)\n",
    "model = model.to(device)"
   ]
  },
  {
   "cell_type": "code",
   "execution_count": 7,
   "metadata": {
    "ExecuteTime": {
     "end_time": "2022-06-11T08:02:39.280533Z",
     "start_time": "2022-06-11T08:02:39.277397Z"
    },
    "id": "f811ed9b"
   },
   "outputs": [],
   "source": [
    "c = Config()\n",
    "\n",
    "learning_rate = c.learning_rate\n",
    "num_epoch = c.num_epoch\n",
    "\n",
    "model_name = 'resnet18_full.pth'\n",
    "\n",
    "loss_fn = nn.CrossEntropyLoss()\n",
    "optimizer = optim.Adam(model.parameters(), lr=learning_rate)\n",
    "\n",
    "train_loss = 0\n",
    "valid_loss = 0\n",
    "correct = 0\n",
    "total_cnt = 0\n",
    "best_acc = 0"
   ]
  },
  {
   "cell_type": "code",
   "execution_count": 8,
   "metadata": {
    "ExecuteTime": {
     "end_time": "2022-06-11T08:15:26.881041Z",
     "start_time": "2022-06-11T08:02:39.281765Z"
    },
    "id": "2cd814ce",
    "scrolled": false
   },
   "outputs": [
    {
     "data": {
      "application/vnd.jupyter.widget-view+json": {
       "model_id": "149d2953399244e985fb56c087f4b6c4",
       "version_major": 2,
       "version_minor": 0
      },
      "text/plain": [
       "  0%|          | 0/100 [00:00<?, ?it/s]"
      ]
     },
     "metadata": {},
     "output_type": "display_data"
    },
    {
     "name": "stderr",
     "output_type": "stream",
     "text": [
      "/home/jeongseobkim/anaconda3/lib/python3.8/site-packages/torch/nn/functional.py:718: UserWarning: Named tensors and all their associated APIs are an experimental feature and subject to change. Please do not use them for anything important until they are released as stable. (Triggered internally at  /pytorch/c10/core/TensorImpl.h:1156.)\n",
      "  return torch.max_pool2d(input, kernel_size, stride, padding, dilation, ceil_mode)\n"
     ]
    },
    {
     "name": "stdout",
     "output_type": "stream",
     "text": [
      "Model Saved!\n",
      "Model Saved!\n",
      "Model Saved!\n",
      "Model Saved!\n",
      "Model Saved!\n",
      "Model Saved!\n",
      "Model Saved!\n",
      "Model Saved!\n",
      "Model Saved!\n",
      "Model Saved!\n",
      "Model Saved!\n",
      "Model Saved!\n",
      "Model Saved!\n",
      "Model Saved!\n",
      "Model Saved!\n",
      "Model Saved!\n",
      "Model Saved!\n",
      "Model Saved!\n",
      "Model Saved!\n",
      "Model Saved!\n",
      "Model Saved!\n",
      "Model Saved!\n",
      "Model Saved!\n",
      "Model Saved!\n",
      "Model Saved!\n",
      "Model Saved!\n",
      "Model Saved!\n",
      "Model Saved!\n",
      "Model Saved!\n",
      "Model Saved!\n",
      "Model Saved!\n"
     ]
    }
   ],
   "source": [
    "# Train\n",
    "for epoch in tqdm(range(num_epoch)):\n",
    "#     print(f\"====== { epoch+1} epoch of { num_epoch } ======\")\n",
    "    model.train()\n",
    "    lr_scheduler(optimizer, epoch)\n",
    "    train_loss = 0\n",
    "    valid_loss = 0\n",
    "    correct = 0\n",
    "    total_cnt = 0\n",
    "    # Train Phase\n",
    "    for step, batch in enumerate(train_loader):\n",
    "        #  input and target\n",
    "        batch[0], batch[1] = batch[0].to(device), batch[1].to(device)\n",
    "        optimizer.zero_grad()\n",
    "        \n",
    "        logits = model(batch[0])\n",
    "        loss = loss_fn(logits, batch[1])\n",
    "        loss.backward()\n",
    "        \n",
    "        optimizer.step()\n",
    "        train_loss += loss.item()\n",
    "        _, predict = logits.max(1)\n",
    "        \n",
    "        total_cnt += batch[1].size(0)\n",
    "        correct +=  predict.eq(batch[1]).sum().item()\n",
    "        \n",
    "        wandb.log({'train_Acc': correct / total_cnt})\n",
    "        wandb.log({'train_loss': loss.item() / batch[1].size(0)})\n",
    "        \n",
    "#         if step % 100 == 0 and step != 0:\n",
    "#             print(f\"\\n====== { step } Step of { len(train_loader) } ======\")\n",
    "#             print(f\"Train Acc : { correct / total_cnt }\")\n",
    "#             print(f\"Train Loss : { loss.item() / batch[1].size(0) }\")\n",
    "            \n",
    "    correct = 0\n",
    "    total_cnt = 0\n",
    "    \n",
    "    # Test Phase\n",
    "    with torch.no_grad():\n",
    "        model.eval()\n",
    "        for step, batch in enumerate(test_loader):\n",
    "            # input and target\n",
    "            batch[0], batch[1] = batch[0].to(device), batch[1].to(device)\n",
    "            total_cnt += batch[1].size(0)\n",
    "            logits = model(batch[0])\n",
    "            valid_loss += loss_fn(logits, batch[1])\n",
    "            _, predict = logits.max(1)\n",
    "            correct += predict.eq(batch[1]).sum().item()\n",
    "        valid_acc = correct / total_cnt\n",
    "#         print(f\"\\nValid Acc : { valid_acc }\")    \n",
    "#         print(f\"Valid Loss : { valid_loss / total_cnt }\")\n",
    "        \n",
    "        wandb.log({'Valid_Acc': valid_acc})\n",
    "        wandb.log({'Valid_Loss': valid_loss / total_cnt})\n",
    "\n",
    "        if(valid_acc > best_acc):\n",
    "            best_acc = valid_acc\n",
    "            torch.save(model, model_name)\n",
    "            print(\"Model Saved!\")"
   ]
  },
  {
   "cell_type": "markdown",
   "metadata": {},
   "source": [
    "**result check**"
   ]
  },
  {
   "cell_type": "code",
   "execution_count": 9,
   "metadata": {
    "ExecuteTime": {
     "end_time": "2022-06-12T02:14:29.489415Z",
     "start_time": "2022-06-12T02:14:29.484067Z"
    }
   },
   "outputs": [],
   "source": [
    "res = pd.read_csv(\"valid_acc.csv\")"
   ]
  },
  {
   "cell_type": "code",
   "execution_count": 15,
   "metadata": {
    "ExecuteTime": {
     "end_time": "2022-06-12T02:15:15.737360Z",
     "start_time": "2022-06-12T02:15:15.733266Z"
    }
   },
   "outputs": [],
   "source": [
    "res = res.sort_values(by='resnet18_cifar10 - Valid_Acc', ascending=False)"
   ]
  },
  {
   "cell_type": "code",
   "execution_count": 17,
   "metadata": {
    "ExecuteTime": {
     "end_time": "2022-06-12T02:15:29.490952Z",
     "start_time": "2022-06-12T02:15:29.483145Z"
    }
   },
   "outputs": [
    {
     "data": {
      "text/html": [
       "<div>\n",
       "<style scoped>\n",
       "    .dataframe tbody tr th:only-of-type {\n",
       "        vertical-align: middle;\n",
       "    }\n",
       "\n",
       "    .dataframe tbody tr th {\n",
       "        vertical-align: top;\n",
       "    }\n",
       "\n",
       "    .dataframe thead th {\n",
       "        text-align: right;\n",
       "    }\n",
       "</style>\n",
       "<table border=\"1\" class=\"dataframe\">\n",
       "  <thead>\n",
       "    <tr style=\"text-align: right;\">\n",
       "      <th></th>\n",
       "      <th>Step</th>\n",
       "      <th>resnet18_cifar10 - Valid_Acc</th>\n",
       "      <th>resnet18_cifar10 - Valid_Acc__MIN</th>\n",
       "      <th>resnet18_cifar10 - Valid_Acc__MAX</th>\n",
       "    </tr>\n",
       "  </thead>\n",
       "  <tbody>\n",
       "    <tr>\n",
       "      <th>97</th>\n",
       "      <td>38610</td>\n",
       "      <td>0.8231</td>\n",
       "      <td>0.8231</td>\n",
       "      <td>0.8231</td>\n",
       "    </tr>\n",
       "    <tr>\n",
       "      <th>95</th>\n",
       "      <td>37822</td>\n",
       "      <td>0.8209</td>\n",
       "      <td>0.8209</td>\n",
       "      <td>0.8209</td>\n",
       "    </tr>\n",
       "    <tr>\n",
       "      <th>98</th>\n",
       "      <td>39004</td>\n",
       "      <td>0.8207</td>\n",
       "      <td>0.8207</td>\n",
       "      <td>0.8207</td>\n",
       "    </tr>\n",
       "    <tr>\n",
       "      <th>99</th>\n",
       "      <td>39398</td>\n",
       "      <td>0.8206</td>\n",
       "      <td>0.8206</td>\n",
       "      <td>0.8206</td>\n",
       "    </tr>\n",
       "    <tr>\n",
       "      <th>86</th>\n",
       "      <td>34276</td>\n",
       "      <td>0.8203</td>\n",
       "      <td>0.8203</td>\n",
       "      <td>0.8203</td>\n",
       "    </tr>\n",
       "    <tr>\n",
       "      <th>96</th>\n",
       "      <td>38216</td>\n",
       "      <td>0.8200</td>\n",
       "      <td>0.8200</td>\n",
       "      <td>0.8200</td>\n",
       "    </tr>\n",
       "    <tr>\n",
       "      <th>91</th>\n",
       "      <td>36246</td>\n",
       "      <td>0.8195</td>\n",
       "      <td>0.8195</td>\n",
       "      <td>0.8195</td>\n",
       "    </tr>\n",
       "    <tr>\n",
       "      <th>92</th>\n",
       "      <td>36640</td>\n",
       "      <td>0.8194</td>\n",
       "      <td>0.8194</td>\n",
       "      <td>0.8194</td>\n",
       "    </tr>\n",
       "    <tr>\n",
       "      <th>89</th>\n",
       "      <td>35458</td>\n",
       "      <td>0.8193</td>\n",
       "      <td>0.8193</td>\n",
       "      <td>0.8193</td>\n",
       "    </tr>\n",
       "    <tr>\n",
       "      <th>82</th>\n",
       "      <td>32700</td>\n",
       "      <td>0.8188</td>\n",
       "      <td>0.8188</td>\n",
       "      <td>0.8188</td>\n",
       "    </tr>\n",
       "  </tbody>\n",
       "</table>\n",
       "</div>"
      ],
      "text/plain": [
       "     Step  resnet18_cifar10 - Valid_Acc  resnet18_cifar10 - Valid_Acc__MIN  \\\n",
       "97  38610                        0.8231                             0.8231   \n",
       "95  37822                        0.8209                             0.8209   \n",
       "98  39004                        0.8207                             0.8207   \n",
       "99  39398                        0.8206                             0.8206   \n",
       "86  34276                        0.8203                             0.8203   \n",
       "96  38216                        0.8200                             0.8200   \n",
       "91  36246                        0.8195                             0.8195   \n",
       "92  36640                        0.8194                             0.8194   \n",
       "89  35458                        0.8193                             0.8193   \n",
       "82  32700                        0.8188                             0.8188   \n",
       "\n",
       "    resnet18_cifar10 - Valid_Acc__MAX  \n",
       "97                             0.8231  \n",
       "95                             0.8209  \n",
       "98                             0.8207  \n",
       "99                             0.8206  \n",
       "86                             0.8203  \n",
       "96                             0.8200  \n",
       "91                             0.8195  \n",
       "92                             0.8194  \n",
       "89                             0.8193  \n",
       "82                             0.8188  "
      ]
     },
     "execution_count": 17,
     "metadata": {},
     "output_type": "execute_result"
    }
   ],
   "source": [
    "res.head(10)"
   ]
  }
 ],
 "metadata": {
  "colab": {
   "name": "resnet_cifar10.ipynb",
   "provenance": []
  },
  "hide_input": false,
  "kernelspec": {
   "display_name": "Python 3",
   "language": "python",
   "name": "python3"
  },
  "language_info": {
   "codemirror_mode": {
    "name": "ipython",
    "version": 3
   },
   "file_extension": ".py",
   "mimetype": "text/x-python",
   "name": "python",
   "nbconvert_exporter": "python",
   "pygments_lexer": "ipython3",
   "version": "3.8.5"
  },
  "toc": {
   "base_numbering": 1,
   "nav_menu": {},
   "number_sections": true,
   "sideBar": true,
   "skip_h1_title": false,
   "title_cell": "Table of Contents",
   "title_sidebar": "Contents",
   "toc_cell": false,
   "toc_position": {},
   "toc_section_display": true,
   "toc_window_display": false
  },
  "varInspector": {
   "cols": {
    "lenName": 16,
    "lenType": 16,
    "lenVar": 40
   },
   "kernels_config": {
    "python": {
     "delete_cmd_postfix": "",
     "delete_cmd_prefix": "del ",
     "library": "var_list.py",
     "varRefreshCmd": "print(var_dic_list())"
    },
    "r": {
     "delete_cmd_postfix": ") ",
     "delete_cmd_prefix": "rm(",
     "library": "var_list.r",
     "varRefreshCmd": "cat(var_dic_list()) "
    }
   },
   "types_to_exclude": [
    "module",
    "function",
    "builtin_function_or_method",
    "instance",
    "_Feature"
   ],
   "window_display": false
  }
 },
 "nbformat": 4,
 "nbformat_minor": 5
}
